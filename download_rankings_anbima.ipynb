{
 "cells": [
  {
   "cell_type": "code",
   "execution_count": 22,
   "metadata": {},
   "outputs": [],
   "source": [
    "import sys\n",
    "import os\n",
    "from datetime import date\n",
    "from time import sleep\n",
    "import customtkinter as ctk\n",
    "from selenium import webdriver\n",
    "from selenium.webdriver.common.by import By\n",
    "from selenium.webdriver.support.ui import WebDriverWait\n",
    "from selenium.webdriver.support import expected_conditions as EC\n",
    "from selenium.common.exceptions import WebDriverException, TimeoutException\n",
    "\n",
    "ctk.set_appearance_mode(\"system\")"
   ]
  },
  {
   "cell_type": "code",
   "execution_count": 23,
   "metadata": {},
   "outputs": [
    {
     "name": "stdout",
     "output_type": "stream",
     "text": [
      "['https://www.anbima.com.br/pt_br/informar/ranking/mercado-de-capitais/mercado-de-capitais.htm', 'https://www.anbima.com.br/pt_br/informar/ranking/fundos-de-investimento/fundos-de-investimento.htm']\n"
     ]
    }
   ],
   "source": [
    "sites = ['https://www.anbima.com.br/pt_br/informar/ranking/mercado-de-capitais/mercado-de-capitais.htm',\n",
    "         'https://www.anbima.com.br/pt_br/informar/ranking/fundos-de-investimento/fundos-de-investimento.htm']\n",
    "\n",
    "print(sites)"
   ]
  },
  {
   "cell_type": "code",
   "execution_count": 29,
   "metadata": {},
   "outputs": [],
   "source": [
    "def mover_arquivo():\n",
    "    downloads = os.path.expanduser(\"~\") + \"\\\\Downloads\"\n",
    "    pasta_mover_fundos_investimento = rf'{downloads}\\Fundos de Investimento'\n",
    "    pasta_mover_mercado_capitais = rf'{downloads}\\Mercado de Capitais'\n",
    "\n",
    "    os.makedirs(pasta_mover_fundos_investimento, exist_ok=True)\n",
    "    os.makedirs(pasta_mover_mercado_capitais, exist_ok=True)\n",
    "\n",
    "    return pasta_mover_fundos_investimento, pasta_mover_mercado_capitais\n"
   ]
  },
  {
   "cell_type": "code",
   "execution_count": 30,
   "metadata": {},
   "outputs": [
    {
     "name": "stdout",
     "output_type": "stream",
     "text": [
      "<function options_edge at 0x0000020379790AF0>\n"
     ]
    }
   ],
   "source": [
    "def options_edge(diretorio_download):\n",
    "    options = webdriver.EdgeOptions()\n",
    "    options.add_argument('--headless')\n",
    "    options.add_argument('--no-sandbox')\n",
    "    options.add_argument('--disable-dev-shm-usage')\n",
    "    options.add_argument('--disable-gpu')\n",
    "    options.add_argument('--disable-infobars')\n",
    "    options.add_argument('--disable-extensions')\n",
    "    options.add_argument('--inprivate')\n",
    "    options.add_argument('--window-size=1920,1080')\n",
    "    options.add_experimental_option(\"prefs\", {\n",
    "        \"download.default_directory\": diretorio_download,\n",
    "        \"download.prompt_for_download\": False,\n",
    "        \"download.directory_upgrade\": True,\n",
    "        \"plugins.always_open_pdf_externally\": True\n",
    "    })\n",
    "\n",
    "    return options\n",
    "\n",
    "retorno = mover_arquivo()\n",
    "pasta_mover_fundos_investimento = retorno[0]\n",
    "pasta_mover_mercado_capitais = retorno[1]\n",
    "\n",
    "print(options_edge)"
   ]
  },
  {
   "cell_type": "code",
   "execution_count": 32,
   "metadata": {},
   "outputs": [],
   "source": [
    "# Definição da função fundos_investimento\n",
    "def fundos_investimento(pasta):\n",
    "    options = options_edge(pasta)\n",
    "\n",
    "    try:\n",
    "        navegador = webdriver.Edge(options=options)\n",
    "    except WebDriverException:\n",
    "        return 'Instale ou atualize seu navegador Edge.'\n",
    "\n",
    "    navegador.get(sites[1])  # Certifique-se de que o índice está correto\n",
    "\n",
    "    try:\n",
    "        cookies = WebDriverWait(navegador, 5).until(EC.presence_of_element_located((By.XPATH, '/html/body/div[1]/div/p[2]/a')))\n",
    "        navegador.execute_script(\"arguments[0].click();\", cookies)\n",
    "    except TimeoutException:\n",
    "        pass\n",
    "\n",
    "    elements_to_click = [\n",
    "        ('/html/body/div[3]/div/main/main/div/div/div/div/div[1]/div/a[1]/h4', '/html/body/div[3]/div/main/div[2]/form/div/div/ul/li/a/p'),\n",
    "        ('/html/body/div[3]/div/main/main/div/div/div/div/div[2]/div/a[1]/h4', '/html/body/div[3]/div/main/div[2]/form/div/div/ul/li[1]/a/p'),\n",
    "        ('/html/body/div[3]/div/main/main/div/div/div/div/div[3]/div/a[1]/h4', '/html/body/div[3]/div/main/div[2]/form/div/div/ul/li[1]/a/p'),\n",
    "        ('/html/body/div[3]/div/main/main/div/div/div/div/div[4]/div/a[1]/h4', '/html/body/div[3]/div/main/div[2]/form/div/div/ul/li[1]/a/p'),\n",
    "        ('/html/body/div[3]/div/main/main/div/div/div/div/div[5]/div/a[1]/h4', '/html/body/div[3]/div/main/div[2]/form/div/div/ul/li[1]/a/p'),\n",
    "        ('/html/body/div[3]/div/main/main/div/div/div/div/div[6]/div/a[1]/h4', '/html/body/div[3]/div/main/div[2]/form/div/div/ul/li[1]/a/p')\n",
    "    ]\n",
    "\n",
    "    for main_xpath, file_xpath in elements_to_click:\n",
    "        try:\n",
    "            main_element = WebDriverWait(navegador, 5).until(EC.visibility_of_element_located((By.XPATH, main_xpath)))\n",
    "            navegador.execute_script(\"arguments[0].click();\", main_element)\n",
    "            sleep(2)  # Espera para garantir que a página carregue\n",
    "            file_element = WebDriverWait(navegador, 5).until(EC.visibility_of_element_located((By.XPATH, file_xpath)))\n",
    "            navegador.execute_script(\"arguments[0].click();\", file_element)\n",
    "            sleep(2)  # Espera para garantir que o download comece\n",
    "            navegador.back()  # Volta para a página inicial\n",
    "            sleep(2)  # Espera para garantir que a página inicial carregue\n",
    "        except TimeoutException:\n",
    "            print(f\"Elemento não encontrado: {main_xpath}\")\n",
    "        except Exception as e:\n",
    "            print(f\"Ocorreu um erro: {e}\")\n",
    "\n",
    "    sleep(3)\n",
    "    print('Arquivos de Fundos de Investimento baixados!')\n",
    "    navegador.quit()"
   ]
  },
  {
   "cell_type": "code",
   "execution_count": 33,
   "metadata": {},
   "outputs": [],
   "source": [
    "def mercado_capitais(pasta):\n",
    "    options = options_edge(pasta)\n",
    "\n",
    "    try:\n",
    "        navegador = webdriver.Edge(options=options)\n",
    "    except WebDriverException:\n",
    "        return 'Instale ou atualize seu navegador Edge.'\n",
    "\n",
    "    navegador.get(sites[0])\n",
    "\n",
    "    try:\n",
    "        cookies = WebDriverWait(navegador, 10).until(EC.presence_of_element_located((By.XPATH, '/html/body/div[1]/div/p[2]/a')))\n",
    "        navegador.execute_script(\"arguments[0].click();\", cookies)\n",
    "    except TimeoutException:\n",
    "        pass\n",
    "\n",
    "    elements_to_click = [\n",
    "        ('/html/body/div[3]/div/main/main/div/div/div/div/div[2]/div/a[1]/h4', '/html/body/div[3]/div/main/div[2]/form/div/div/ul/li[1]/a/p'),\n",
    "        ('/html/body/div[3]/div/main/main/div/div/div/div/div[3]/div/a[1]/h4', '/html/body/div[3]/div/main/div[2]/form/div/div/ul/li[1]/a/p'),\n",
    "        ('/html/body/div[3]/div/main/main/div/div/div/div/div[4]/div/a[1]/h4', '/html/body/div[3]/div/main/div[2]/form/div/div/ul/li[2]/a/p')\n",
    "    ]\n",
    "\n",
    "    for main_xpath, *file_xpaths in elements_to_click:\n",
    "        try:\n",
    "            main_element = WebDriverWait(navegador, 10).until(EC.visibility_of_element_located((By.XPATH, main_xpath)))\n",
    "            navegador.execute_script(\"arguments[0].click();\", main_element)\n",
    "            for file_xpath in file_xpaths:\n",
    "                file_element = WebDriverWait(navegador, 10).until(EC.visibility_of_element_located((By.XPATH, file_xpath)))\n",
    "                navegador.execute_script(\"arguments[0].click();\", file_element)\n",
    "                sleep(1)\n",
    "            navegador.back()  # Volta para a página inicial\n",
    "            sleep(2)  # Espera para garantir que a página inicial carregue\n",
    "        except TimeoutException:\n",
    "            print(f\"Elemento não encontrado: {main_xpath}\")\n",
    "        except Exception as e:\n",
    "            print(f\"Ocorreu um erro: {e}\")\n",
    "\n",
    "    sleep(3)\n",
    "    print('Arquivos de Mercado de Capitais baixados!')\n",
    "    navegador.quit()\n"
   ]
  },
  {
   "cell_type": "code",
   "execution_count": 34,
   "metadata": {},
   "outputs": [
    {
     "name": "stdout",
     "output_type": "stream",
     "text": [
      "Os arquivos estão sendo baixados...\n",
      "Arquivos de Fundos de Investimento baixados!\n",
      "Arquivos de Mercado de Capitais baixados!\n",
      "Arquivos de Fundos de Investimento e Mercado de Capitais foram baixados com sucesso!\n"
     ]
    }
   ],
   "source": [
    "# Chamada da função para mover os arquivos\n",
    "\n",
    "print(\"Os arquivos estão sendo baixados...\")\n",
    "\n",
    "pasta_mover_fundos_investimento, pasta_mover_mercado_capitais = mover_arquivo()\n",
    "\n",
    "fundos_investimento(pasta_mover_fundos_investimento)\n",
    "mercado_capitais(pasta_mover_mercado_capitais)\n",
    "\n",
    "print(f\"Arquivos de Fundos de Investimento e Mercado de Capitais foram baixados com sucesso!\")"
   ]
  }
 ],
 "metadata": {
  "kernelspec": {
   "display_name": "Python 3",
   "language": "python",
   "name": "python3"
  },
  "language_info": {
   "codemirror_mode": {
    "name": "ipython",
    "version": 3
   },
   "file_extension": ".py",
   "mimetype": "text/x-python",
   "name": "python",
   "nbconvert_exporter": "python",
   "pygments_lexer": "ipython3",
   "version": "3.9.5"
  }
 },
 "nbformat": 4,
 "nbformat_minor": 2
}
